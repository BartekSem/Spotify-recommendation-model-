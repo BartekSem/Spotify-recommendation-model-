{
 "cells": [
  {
   "cell_type": "markdown",
   "id": "eebb29da-0133-4a90-99c4-303567060557",
   "metadata": {
    "tags": []
   },
   "source": [
    "## THE PRODUCT "
   ]
  },
  {
   "cell_type": "markdown",
   "id": "bbd37ad0-ea03-4e26-ae2f-2d8624d71328",
   "metadata": {
    "jp-MarkdownHeadingCollapsed": true,
    "tags": []
   },
   "source": [
    "### Libraries"
   ]
  },
  {
   "cell_type": "code",
   "execution_count": 419,
   "id": "2eefff13-8b63-4bb6-9ce8-c88212228e8d",
   "metadata": {
    "tags": []
   },
   "outputs": [],
   "source": [
    "#imports\n",
    "import config\n",
    "import spotipy\n",
    "import pandas as pd\n",
    "import json\n",
    "import pandas as pd \n",
    "import seaborn as sns\n",
    "import matplotlib.pyplot as plt\n",
    "import scipy.stats as stats\n",
    "import math\n",
    "import re\n",
    "import json\n",
    "import numpy as np\n",
    "import pprint\n",
    "import pickle\n",
    "\n",
    "%matplotlib inline\n",
    "\n",
    "from sklearn import datasets # sklearn comes with some toy datasets to practice\n",
    "from sklearn.cluster import KMeans\n",
    "from sklearn.metrics import silhouette_score\n",
    "import matplotlib.pyplot as plt\n",
    "from IPython.display import IFrame\n",
    "from sklearn.cluster import KMeans\n",
    "from sklearn.preprocessing import MinMaxScaler, StandardScaler, PowerTransformer, OneHotEncoder, OrdinalEncoder, Normalizer, RobustScaler, QuantileTransformer\n",
    "from spotipy.oauth2 import SpotifyClientCredentials\n",
    "\n",
    "\n",
    "#Initialize SpotiPy with user credentials\n",
    "sp = spotipy.Spotify(auth_manager=SpotifyClientCredentials(client_id= config.client_id,\n",
    "                                                           client_secret= config.client_secret))"
   ]
  },
  {
   "cell_type": "markdown",
   "id": "de709bfd-b664-44b9-975b-5fce8e364e8e",
   "metadata": {
    "jp-MarkdownHeadingCollapsed": true,
    "tags": []
   },
   "source": [
    "### Model frame"
   ]
  },
  {
   "cell_type": "code",
   "execution_count": null,
   "id": "43437809-ce08-45ef-8168-30a69b2635d2",
   "metadata": {},
   "outputs": [],
   "source": [
    "import random\n",
    "\n",
    "while True:\n",
    "    user_input = input(\"Enter the name of the song: \")\n",
    "    found_match = False\n",
    "\n",
    "    random_song = random.choice(top100[\"Titles\"]) \n",
    "    \n",
    "    for song in top100[\"Titles\"]:\n",
    "        if user_input.lower() in song.lower():\n",
    "            print(\"------------------------------------\")\n",
    "            print(f\"Based on your entry '{user_input}'\")\n",
    "            print(f\"We would like to recommend you '{random_song}'\")\n",
    "            user_q = input(\"Would you like to try again? (YES/NO): \").lower()\n",
    "            found_match = True\n",
    "            break\n",
    "\n",
    "    if found_match:\n",
    "        if user_q == \"no\":\n",
    "            print(\"You have now exited the program\")\n",
    "            break\n",
    "    else:\n",
    "        model_input = song_recommender(user_input)\n",
    "        print(\"--------------------------------------------------------------------------\")\n",
    "        print(f\"Based on your song our AI recommends you '{model_input}'.\")"
   ]
  },
  {
   "cell_type": "code",
   "execution_count": null,
   "id": "1b0c4a38-d1f9-4343-ab80-5d639ca7ab44",
   "metadata": {},
   "outputs": [],
   "source": []
  },
  {
   "cell_type": "code",
   "execution_count": null,
   "id": "add24e57-1f59-4053-944e-ab5c31a9301a",
   "metadata": {
    "tags": []
   },
   "outputs": [],
   "source": [
    "while True:\n",
    "    user_input = input(\"Enter the name of the song: \")\n",
    "    found_match = False\n",
    "\n",
    "    random_song = random.choice(top100[\"Titles\"]) \n",
    "    \n",
    "    for song in top100[\"Titles\"]:\n",
    "        if user_input.lower() in song.lower():\n",
    "            print(\"------------------------------------\")\n",
    "            print(f\"Based on your entry '{user_input}'\")\n",
    "            print(f\"We would like to recommend you '{random_song}'\")\n",
    "            user_q = input(\"Would you like to try again? (YES/NO): \").lower()\n",
    "            found_match = True\n",
    "            break\n",
    "\n",
    "    if found_match:\n",
    "        if user_q == \"no\":\n",
    "            print(\"You have now exited the program\")\n",
    "            break\n",
    "    else:\n",
    "        model_input = song_recommender(user_input)\n",
    "        print(\"--------------------------------------------------------------------------\")\n",
    "        print(f\"Based on your song our AI recommends you '{model_input}'.\")"
   ]
  },
  {
   "cell_type": "markdown",
   "id": "233b06b3-5f39-42d8-820c-a9a362def096",
   "metadata": {
    "tags": []
   },
   "source": [
    "### The model"
   ]
  },
  {
   "cell_type": "markdown",
   "id": "f911f199-6a98-4eb5-a4e8-641e290c6702",
   "metadata": {
    "jp-MarkdownHeadingCollapsed": true,
    "tags": []
   },
   "source": [
    "#### Functions"
   ]
  },
  {
   "cell_type": "code",
   "execution_count": null,
   "id": "53bb1e51-66e4-4108-a337-9479d3d0d9b9",
   "metadata": {},
   "outputs": [],
   "source": [
    "from IPython.display import IFrame\n",
    "\n",
    "def play_song(track_id):\n",
    "    return IFrame(src=\"https://open.spotify.com/embed/track/\"+track_id,\n",
    "       width=\"320\",\n",
    "       height=\"80\",\n",
    "       frameborder=\"0\",\n",
    "       allowtransparency=\"true\",\n",
    "       allow=\"encrypted-media\",\n",
    "      )"
   ]
  },
  {
   "cell_type": "markdown",
   "id": "06b347fc-d3d8-4e37-a6e2-c42a2cc4a2d0",
   "metadata": {
    "jp-MarkdownHeadingCollapsed": true,
    "tags": []
   },
   "source": [
    "#### K-means "
   ]
  },
  {
   "cell_type": "markdown",
   "id": "dad8500d-307e-4810-ad8a-f4ef52fd2f40",
   "metadata": {
    "tags": []
   },
   "source": [
    "##### Import and read df"
   ]
  },
  {
   "cell_type": "code",
   "execution_count": 402,
   "id": "e3dcdd7a-4533-4215-ba66-9cc98f5e9226",
   "metadata": {},
   "outputs": [],
   "source": [
    "df = pd.read_csv(\"concatenated_df\")"
   ]
  },
  {
   "cell_type": "code",
   "execution_count": 403,
   "id": "b23bf779-fcfa-47f6-99cf-3074f6ccec94",
   "metadata": {},
   "outputs": [],
   "source": [
    "columns_to_remove = ['id','type', 'uri', 'track_href', 'analysis_url']\n",
    "df.drop(columns=columns_to_remove, inplace=True)"
   ]
  },
  {
   "cell_type": "code",
   "execution_count": null,
   "id": "dedf50df-29d0-4972-836f-2adf4a4d98e7",
   "metadata": {},
   "outputs": [],
   "source": [
    "df.info()"
   ]
  },
  {
   "cell_type": "code",
   "execution_count": 397,
   "id": "53723273-f217-42b3-b4b9-22c731d70561",
   "metadata": {
    "tags": []
   },
   "outputs": [],
   "source": [
    "id_df = df.select_dtypes(include='object')\n",
    "numerical_df = df.select_dtypes(include ='number')"
   ]
  },
  {
   "cell_type": "markdown",
   "id": "028a8a02-64a6-4360-a91c-c00b333e5bf2",
   "metadata": {
    "tags": []
   },
   "source": [
    "##### Scale "
   ]
  },
  {
   "cell_type": "code",
   "execution_count": 405,
   "id": "4b0fc343-f198-4528-9be7-4d8594245f5b",
   "metadata": {},
   "outputs": [],
   "source": [
    "# scaled all numerical values but IDs\n",
    "scaler = StandardScaler()\n",
    "scaler.fit(df)\n",
    "X_scaled = scaler.transform(df)\n",
    "X_scaled_df = pd.DataFrame(X_scaled, columns = df.columns)"
   ]
  },
  {
   "cell_type": "markdown",
   "id": "b99d435c-a824-47ef-83ff-4aad68bf3a50",
   "metadata": {
    "tags": []
   },
   "source": [
    "##### Train model "
   ]
  },
  {
   "cell_type": "code",
   "execution_count": 406,
   "id": "04520372-6b59-4f98-bdaf-4c91be036e4f",
   "metadata": {},
   "outputs": [
    {
     "name": "stderr",
     "output_type": "stream",
     "text": [
      "/Users/bart/anaconda3/lib/python3.11/site-packages/sklearn/cluster/_kmeans.py:1412: FutureWarning: The default value of `n_init` will change from 10 to 'auto' in 1.4. Set the value of `n_init` explicitly to suppress the warning\n",
      "  super()._check_params_vs_input(X, default_n_init=10)\n"
     ]
    },
    {
     "data": {
      "text/html": [
       "<style>#sk-container-id-5 {color: black;}#sk-container-id-5 pre{padding: 0;}#sk-container-id-5 div.sk-toggleable {background-color: white;}#sk-container-id-5 label.sk-toggleable__label {cursor: pointer;display: block;width: 100%;margin-bottom: 0;padding: 0.3em;box-sizing: border-box;text-align: center;}#sk-container-id-5 label.sk-toggleable__label-arrow:before {content: \"▸\";float: left;margin-right: 0.25em;color: #696969;}#sk-container-id-5 label.sk-toggleable__label-arrow:hover:before {color: black;}#sk-container-id-5 div.sk-estimator:hover label.sk-toggleable__label-arrow:before {color: black;}#sk-container-id-5 div.sk-toggleable__content {max-height: 0;max-width: 0;overflow: hidden;text-align: left;background-color: #f0f8ff;}#sk-container-id-5 div.sk-toggleable__content pre {margin: 0.2em;color: black;border-radius: 0.25em;background-color: #f0f8ff;}#sk-container-id-5 input.sk-toggleable__control:checked~div.sk-toggleable__content {max-height: 200px;max-width: 100%;overflow: auto;}#sk-container-id-5 input.sk-toggleable__control:checked~label.sk-toggleable__label-arrow:before {content: \"▾\";}#sk-container-id-5 div.sk-estimator input.sk-toggleable__control:checked~label.sk-toggleable__label {background-color: #d4ebff;}#sk-container-id-5 div.sk-label input.sk-toggleable__control:checked~label.sk-toggleable__label {background-color: #d4ebff;}#sk-container-id-5 input.sk-hidden--visually {border: 0;clip: rect(1px 1px 1px 1px);clip: rect(1px, 1px, 1px, 1px);height: 1px;margin: -1px;overflow: hidden;padding: 0;position: absolute;width: 1px;}#sk-container-id-5 div.sk-estimator {font-family: monospace;background-color: #f0f8ff;border: 1px dotted black;border-radius: 0.25em;box-sizing: border-box;margin-bottom: 0.5em;}#sk-container-id-5 div.sk-estimator:hover {background-color: #d4ebff;}#sk-container-id-5 div.sk-parallel-item::after {content: \"\";width: 100%;border-bottom: 1px solid gray;flex-grow: 1;}#sk-container-id-5 div.sk-label:hover label.sk-toggleable__label {background-color: #d4ebff;}#sk-container-id-5 div.sk-serial::before {content: \"\";position: absolute;border-left: 1px solid gray;box-sizing: border-box;top: 0;bottom: 0;left: 50%;z-index: 0;}#sk-container-id-5 div.sk-serial {display: flex;flex-direction: column;align-items: center;background-color: white;padding-right: 0.2em;padding-left: 0.2em;position: relative;}#sk-container-id-5 div.sk-item {position: relative;z-index: 1;}#sk-container-id-5 div.sk-parallel {display: flex;align-items: stretch;justify-content: center;background-color: white;position: relative;}#sk-container-id-5 div.sk-item::before, #sk-container-id-5 div.sk-parallel-item::before {content: \"\";position: absolute;border-left: 1px solid gray;box-sizing: border-box;top: 0;bottom: 0;left: 50%;z-index: -1;}#sk-container-id-5 div.sk-parallel-item {display: flex;flex-direction: column;z-index: 1;position: relative;background-color: white;}#sk-container-id-5 div.sk-parallel-item:first-child::after {align-self: flex-end;width: 50%;}#sk-container-id-5 div.sk-parallel-item:last-child::after {align-self: flex-start;width: 50%;}#sk-container-id-5 div.sk-parallel-item:only-child::after {width: 0;}#sk-container-id-5 div.sk-dashed-wrapped {border: 1px dashed gray;margin: 0 0.4em 0.5em 0.4em;box-sizing: border-box;padding-bottom: 0.4em;background-color: white;}#sk-container-id-5 div.sk-label label {font-family: monospace;font-weight: bold;display: inline-block;line-height: 1.2em;}#sk-container-id-5 div.sk-label-container {text-align: center;}#sk-container-id-5 div.sk-container {/* jupyter's `normalize.less` sets `[hidden] { display: none; }` but bootstrap.min.css set `[hidden] { display: none !important; }` so we also need the `!important` here to be able to override the default hidden behavior on the sphinx rendered scikit-learn.org. See: https://github.com/scikit-learn/scikit-learn/issues/21755 */display: inline-block !important;position: relative;}#sk-container-id-5 div.sk-text-repr-fallback {display: none;}</style><div id=\"sk-container-id-5\" class=\"sk-top-container\"><div class=\"sk-text-repr-fallback\"><pre>KMeans(n_clusters=10, random_state=1234)</pre><b>In a Jupyter environment, please rerun this cell to show the HTML representation or trust the notebook. <br />On GitHub, the HTML representation is unable to render, please try loading this page with nbviewer.org.</b></div><div class=\"sk-container\" hidden><div class=\"sk-item\"><div class=\"sk-estimator sk-toggleable\"><input class=\"sk-toggleable__control sk-hidden--visually\" id=\"sk-estimator-id-5\" type=\"checkbox\" checked><label for=\"sk-estimator-id-5\" class=\"sk-toggleable__label sk-toggleable__label-arrow\">KMeans</label><div class=\"sk-toggleable__content\"><pre>KMeans(n_clusters=10, random_state=1234)</pre></div></div></div></div></div>"
      ],
      "text/plain": [
       "KMeans(n_clusters=10, random_state=1234)"
      ]
     },
     "execution_count": 406,
     "metadata": {},
     "output_type": "execute_result"
    }
   ],
   "source": [
    "kmeans = KMeans(n_clusters=10, random_state=1234)\n",
    "kmeans.fit(X_scaled_df)"
   ]
  },
  {
   "cell_type": "code",
   "execution_count": 254,
   "id": "380549a9-317c-4c91-885f-ef46e596920f",
   "metadata": {},
   "outputs": [
    {
     "data": {
      "text/plain": [
       "array([1, 6, 6, ..., 9, 0, 8], dtype=int32)"
      ]
     },
     "execution_count": 254,
     "metadata": {},
     "output_type": "execute_result"
    }
   ],
   "source": [
    "labels = kmeans.labels_\n",
    "labels"
   ]
  },
  {
   "cell_type": "code",
   "execution_count": 255,
   "id": "40406e2e-6a04-4abf-ab7a-75db18b26862",
   "metadata": {},
   "outputs": [
    {
     "data": {
      "text/plain": [
       "array([0, 1, 2, 3, 4, 5, 6, 7, 8, 9], dtype=int32)"
      ]
     },
     "execution_count": 255,
     "metadata": {},
     "output_type": "execute_result"
    }
   ],
   "source": [
    "np.unique(labels)"
   ]
  },
  {
   "cell_type": "code",
   "execution_count": null,
   "id": "989d9930-88c5-4b85-a172-da31449ed514",
   "metadata": {
    "tags": []
   },
   "outputs": [],
   "source": [
    "clusters = kmeans.predict(X_scaled_df)\n",
    "#clusters\n",
    "pd.Series(clusters).value_counts().sort_index()"
   ]
  },
  {
   "cell_type": "code",
   "execution_count": 408,
   "id": "e6381469-91df-4bea-925f-5a97a5a3a047",
   "metadata": {
    "tags": []
   },
   "outputs": [],
   "source": [
    "df['Clusters'] = clusters"
   ]
  },
  {
   "cell_type": "code",
   "execution_count": 409,
   "id": "1fdb387d-779b-40d0-9c38-e4dad94a1fd9",
   "metadata": {
    "tags": []
   },
   "outputs": [
    {
     "data": {
      "text/html": [
       "<div>\n",
       "<style scoped>\n",
       "    .dataframe tbody tr th:only-of-type {\n",
       "        vertical-align: middle;\n",
       "    }\n",
       "\n",
       "    .dataframe tbody tr th {\n",
       "        vertical-align: top;\n",
       "    }\n",
       "\n",
       "    .dataframe thead th {\n",
       "        text-align: right;\n",
       "    }\n",
       "</style>\n",
       "<table border=\"1\" class=\"dataframe\">\n",
       "  <thead>\n",
       "    <tr style=\"text-align: right;\">\n",
       "      <th></th>\n",
       "      <th>danceability</th>\n",
       "      <th>energy</th>\n",
       "      <th>key</th>\n",
       "      <th>loudness</th>\n",
       "      <th>mode</th>\n",
       "      <th>speechiness</th>\n",
       "      <th>acousticness</th>\n",
       "      <th>instrumentalness</th>\n",
       "      <th>liveness</th>\n",
       "      <th>valence</th>\n",
       "      <th>tempo</th>\n",
       "      <th>duration_ms</th>\n",
       "      <th>time_signature</th>\n",
       "      <th>Clusters</th>\n",
       "    </tr>\n",
       "  </thead>\n",
       "  <tbody>\n",
       "    <tr>\n",
       "      <th>0</th>\n",
       "      <td>0.698</td>\n",
       "      <td>0.868</td>\n",
       "      <td>1</td>\n",
       "      <td>-9.104</td>\n",
       "      <td>1</td>\n",
       "      <td>0.0446</td>\n",
       "      <td>0.0395</td>\n",
       "      <td>0.0201</td>\n",
       "      <td>0.196</td>\n",
       "      <td>0.743</td>\n",
       "      <td>108.912</td>\n",
       "      <td>226513</td>\n",
       "      <td>4</td>\n",
       "      <td>1</td>\n",
       "    </tr>\n",
       "  </tbody>\n",
       "</table>\n",
       "</div>"
      ],
      "text/plain": [
       "   danceability  energy  key  loudness  mode  speechiness  acousticness  \\\n",
       "0         0.698   0.868    1    -9.104     1       0.0446        0.0395   \n",
       "\n",
       "   instrumentalness  liveness  valence    tempo  duration_ms  time_signature  \\\n",
       "0            0.0201     0.196    0.743  108.912       226513               4   \n",
       "\n",
       "   Clusters  \n",
       "0         1  "
      ]
     },
     "execution_count": 409,
     "metadata": {},
     "output_type": "execute_result"
    }
   ],
   "source": [
    "df.head(1)"
   ]
  },
  {
   "cell_type": "markdown",
   "id": "307a9289-241a-4125-aaf5-c78392c4ff2e",
   "metadata": {
    "jp-MarkdownHeadingCollapsed": true,
    "tags": []
   },
   "source": [
    "#### User input"
   ]
  },
  {
   "cell_type": "markdown",
   "id": "e1b21614-e1b5-4d3a-b51e-4da31fd4be4e",
   "metadata": {
    "tags": []
   },
   "source": [
    "#### Song search "
   ]
  },
  {
   "cell_type": "code",
   "execution_count": 521,
   "id": "9639a7ae-c898-4243-9dad-755ac5b8c403",
   "metadata": {
    "tags": []
   },
   "outputs": [
    {
     "name": "stdin",
     "output_type": "stream",
     "text": [
      "Enter song: billie jean - michael jackson\n"
     ]
    },
    {
     "data": {
      "text/html": [
       "\n",
       "        <iframe\n",
       "            width=\"320\"\n",
       "            height=\"80\"\n",
       "            src=\"https://open.spotify.com/embed/track/5ChkMS8OtdzJeqyybCc9R5?frameborder=0&allowtransparency=true&allow=encrypted-media\"\n",
       "            frameborder=\"0\"\n",
       "            allowfullscreen\n",
       "            \n",
       "        ></iframe>\n",
       "        "
      ],
      "text/plain": [
       "<IPython.lib.display.IFrame at 0x136b980d0>"
      ]
     },
     "execution_count": 521,
     "metadata": {},
     "output_type": "execute_result"
    }
   ],
   "source": [
    "user_input = input(f\"Enter song:\")\n",
    "results = sp.search(q=user_input, limit=1)\n",
    "\n",
    "song_id = results[\"tracks\"][\"items\"][0][\"id\"]\n",
    "\n",
    "play_song(song_id)"
   ]
  },
  {
   "cell_type": "code",
   "execution_count": 522,
   "id": "834ff8b1-10bc-4cb1-b7d5-d3994d7268bf",
   "metadata": {
    "tags": []
   },
   "outputs": [],
   "source": [
    "audio_features = sp.audio_features(song_id)"
   ]
  },
  {
   "cell_type": "code",
   "execution_count": 523,
   "id": "8b7a65b3-c00a-4788-989e-a178cb34865a",
   "metadata": {
    "tags": []
   },
   "outputs": [],
   "source": [
    "input_df = pd.DataFrame(audio_features)"
   ]
  },
  {
   "cell_type": "code",
   "execution_count": 524,
   "id": "4e364878-20b5-4408-93ab-f6122f8b70c4",
   "metadata": {
    "tags": []
   },
   "outputs": [],
   "source": [
    "# clean input_df. make it equal with df \n",
    "columns_to_remove = ['id','type', 'uri', 'track_href', 'analysis_url']\n",
    "input_df.drop(columns=columns_to_remove, inplace=True)"
   ]
  },
  {
   "cell_type": "markdown",
   "id": "b602ce6e-ddc6-4440-9044-bd20e305693e",
   "metadata": {},
   "source": [
    "#### Scale "
   ]
  },
  {
   "cell_type": "code",
   "execution_count": 525,
   "id": "9bab690e-7ca8-4711-8ae6-ef72a74266d5",
   "metadata": {
    "tags": []
   },
   "outputs": [],
   "source": [
    "X_input_scaled = scaler.transform(input_df)\n",
    "input_scaled_df = pd.DataFrame(X_input_scaled, columns = input_df.columns)"
   ]
  },
  {
   "cell_type": "markdown",
   "id": "04ce3c67-c99e-48fb-b284-9ac50faa9df2",
   "metadata": {
    "tags": []
   },
   "source": [
    "#### Predict cluster"
   ]
  },
  {
   "cell_type": "code",
   "execution_count": 526,
   "id": "3043a2a8-eaa1-4e8a-914b-d8f57982f2e1",
   "metadata": {
    "tags": []
   },
   "outputs": [
    {
     "data": {
      "text/plain": [
       "6    1\n",
       "Name: count, dtype: int64"
      ]
     },
     "execution_count": 526,
     "metadata": {},
     "output_type": "execute_result"
    }
   ],
   "source": [
    "input_cluster = kmeans.predict(input_scaled_df)\n",
    "\n",
    "#clusters\n",
    "pd.Series(input_cluster).value_counts().sort_index()"
   ]
  },
  {
   "cell_type": "code",
   "execution_count": 527,
   "id": "f6de937b-9f05-49c9-a7a3-6b7905a3f2e6",
   "metadata": {
    "tags": []
   },
   "outputs": [],
   "source": [
    "input_cluster_int = input_cluster[0]"
   ]
  },
  {
   "cell_type": "code",
   "execution_count": 528,
   "id": "242199e9-e7ad-4bdb-8c25-75f712706b3c",
   "metadata": {
    "tags": []
   },
   "outputs": [],
   "source": [
    "input_combined_df['Clusters'] = input_cluster_int"
   ]
  },
  {
   "cell_type": "markdown",
   "id": "15b19c61-16ab-4c3f-8c03-d71b1d1c8e03",
   "metadata": {},
   "source": [
    "#### Recommendation"
   ]
  },
  {
   "cell_type": "code",
   "execution_count": 529,
   "id": "e758e538-feb2-4836-8afa-5ba28f2d6103",
   "metadata": {
    "tags": []
   },
   "outputs": [],
   "source": [
    "selected_song = df_combined[df_combined['Clusters'] == input_cluster_int].sample()"
   ]
  },
  {
   "cell_type": "code",
   "execution_count": 530,
   "id": "5c9c829c-99fb-4389-b45f-64d7da3ffea1",
   "metadata": {
    "tags": []
   },
   "outputs": [],
   "source": [
    "predict_song_id = selected_song['id'].iloc[0]"
   ]
  },
  {
   "cell_type": "code",
   "execution_count": 531,
   "id": "882d28be-06d3-47ac-9201-f61e15199bb4",
   "metadata": {
    "tags": []
   },
   "outputs": [
    {
     "data": {
      "text/html": [
       "\n",
       "        <iframe\n",
       "            width=\"320\"\n",
       "            height=\"80\"\n",
       "            src=\"https://open.spotify.com/embed/track/2BXqrLRvRqytrVPDLzOFiy?frameborder=0&allowtransparency=true&allow=encrypted-media\"\n",
       "            frameborder=\"0\"\n",
       "            allowfullscreen\n",
       "            \n",
       "        ></iframe>\n",
       "        "
      ],
      "text/plain": [
       "<IPython.lib.display.IFrame at 0x13474f4d0>"
      ]
     },
     "execution_count": 531,
     "metadata": {},
     "output_type": "execute_result"
    }
   ],
   "source": [
    "play_song(predict_song_id)"
   ]
  },
  {
   "cell_type": "code",
   "execution_count": 520,
   "id": "4d73cad3-3a33-4e16-be12-1aec7faa3a30",
   "metadata": {
    "tags": []
   },
   "outputs": [
    {
     "data": {
      "text/html": [
       "\n",
       "        <iframe\n",
       "            width=\"320\"\n",
       "            height=\"80\"\n",
       "            src=\"https://open.spotify.com/embed/track/2W3EgJst61RLZtPPm3EQim?frameborder=0&allowtransparency=true&allow=encrypted-media\"\n",
       "            frameborder=\"0\"\n",
       "            allowfullscreen\n",
       "            \n",
       "        ></iframe>\n",
       "        "
      ],
      "text/plain": [
       "<IPython.lib.display.IFrame at 0x135dd2610>"
      ]
     },
     "execution_count": 520,
     "metadata": {},
     "output_type": "execute_result"
    }
   ],
   "source": [
    "play_song(song_id)"
   ]
  }
 ],
 "metadata": {
  "kernelspec": {
   "display_name": "Python 3 (ipykernel)",
   "language": "python",
   "name": "python3"
  },
  "language_info": {
   "codemirror_mode": {
    "name": "ipython",
    "version": 3
   },
   "file_extension": ".py",
   "mimetype": "text/x-python",
   "name": "python",
   "nbconvert_exporter": "python",
   "pygments_lexer": "ipython3",
   "version": "3.11.5"
  }
 },
 "nbformat": 4,
 "nbformat_minor": 5
}
